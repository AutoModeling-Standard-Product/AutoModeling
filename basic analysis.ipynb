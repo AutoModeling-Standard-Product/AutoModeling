{
 "cells": [
  {
   "cell_type": "code",
   "execution_count": 3,
   "metadata": {},
   "outputs": [],
   "source": [
    "from main.utils.analysis import *\n",
    "%matplotlib inline"
   ]
  },
  {
   "cell_type": "code",
   "execution_count": 4,
   "metadata": {},
   "outputs": [
    {
     "data": {
      "text/plain": [
       "\"原始数据有741764条, 根据['mobile_org', 'apply_date', 'org']去重且只保留标签列[0,1]的数据\""
      ]
     },
     "metadata": {},
     "output_type": "display_data"
    },
    {
     "data": {
      "text/plain": [
       "'去重后数据有741764条'"
      ]
     },
     "metadata": {},
     "output_type": "display_data"
    },
    {
     "data": {
      "text/plain": [
       "'credit_target, org被重命名为new_target, new_org; apply_date被格式化为new_date, new_date_ym两列'"
      ]
     },
     "metadata": {},
     "output_type": "display_data"
    }
   ],
   "source": [
    "params = {'data_pth':'../../1/mj2非银版/data/modeling_data.csv',\n",
    "    'date_colName': 'apply_date',\n",
    "    'y_colName': 'credit_target',\n",
    "    'org_colName':'org',\n",
    "    'data_encode':'utf-8',\n",
    "    'key_colNames' : ['mobile_org', 'apply_date', 'org']}\n",
    "data = get_dataset(**params)"
   ]
  },
  {
   "cell_type": "code",
   "execution_count": 5,
   "metadata": {},
   "outputs": [
    {
     "data": {
      "text/html": [
       "<div>\n",
       "<style scoped>\n",
       "    .dataframe tbody tr th:only-of-type {\n",
       "        vertical-align: middle;\n",
       "    }\n",
       "\n",
       "    .dataframe tbody tr th {\n",
       "        vertical-align: top;\n",
       "    }\n",
       "\n",
       "    .dataframe thead th {\n",
       "        text-align: right;\n",
       "    }\n",
       "</style>\n",
       "<table border=\"1\" class=\"dataframe\">\n",
       "  <thead>\n",
       "    <tr style=\"text-align: right;\">\n",
       "      <th></th>\n",
       "      <th>mobile_org</th>\n",
       "      <th>new_date</th>\n",
       "      <th>new_org</th>\n",
       "      <th>aft_v4up2_score</th>\n",
       "      <th>new_target</th>\n",
       "      <th>i_cnt_interestLevel_one_Loan_all_30day</th>\n",
       "      <th>i_cnt_interestLevel_six_Loan_all_180day</th>\n",
       "      <th>i_cnt_interestLevel_six_Loan_all_365day</th>\n",
       "      <th>i_cnt_partner_v4_Loan_all_7day</th>\n",
       "      <th>i_cnt_partner_v4_all_LoanAssistPlat_7day</th>\n",
       "      <th>...</th>\n",
       "      <th>m_freq_night_v4_all_all_365day</th>\n",
       "      <th>m_freq_record_v4_Loan_PriOthersBank_365day</th>\n",
       "      <th>m_incr_set_recent180daypartner_v4_Loan_LoanAssistPlat_365day</th>\n",
       "      <th>m_length_last_v4_all_all_365day</th>\n",
       "      <th>m_max_freq_record_daily_v4_all_Imbank_365day</th>\n",
       "      <th>m_min_length_record_v4_Loan_all_365day</th>\n",
       "      <th>m_ratio_cnt_partner_tailplat2_v3_Loan_all_365day</th>\n",
       "      <th>m_ratio_freq_dawn_Loan_all_365day</th>\n",
       "      <th>m_ratio_freq_record_v4_Loan_LarStoBank_365day</th>\n",
       "      <th>new_date_ym</th>\n",
       "    </tr>\n",
       "  </thead>\n",
       "  <tbody>\n",
       "    <tr>\n",
       "      <td>0</td>\n",
       "      <td>32210e2a7b9bbd34fd15bba19493a4e9</td>\n",
       "      <td>20240305</td>\n",
       "      <td>xk_hc</td>\n",
       "      <td>49.9037</td>\n",
       "      <td>0.0</td>\n",
       "      <td>0</td>\n",
       "      <td>2</td>\n",
       "      <td>5</td>\n",
       "      <td>7</td>\n",
       "      <td>1</td>\n",
       "      <td>...</td>\n",
       "      <td>51.0</td>\n",
       "      <td>7.0</td>\n",
       "      <td>1.0</td>\n",
       "      <td>1.4537</td>\n",
       "      <td>7.0</td>\n",
       "      <td>0.0</td>\n",
       "      <td>0.1935</td>\n",
       "      <td>0.0079</td>\n",
       "      <td>0.0059</td>\n",
       "      <td>202403</td>\n",
       "    </tr>\n",
       "  </tbody>\n",
       "</table>\n",
       "<p>1 rows × 68 columns</p>\n",
       "</div>"
      ],
      "text/plain": [
       "                         mobile_org  new_date new_org  aft_v4up2_score  \\\n",
       "0  32210e2a7b9bbd34fd15bba19493a4e9  20240305   xk_hc          49.9037   \n",
       "\n",
       "   new_target  i_cnt_interestLevel_one_Loan_all_30day  \\\n",
       "0         0.0                                       0   \n",
       "\n",
       "   i_cnt_interestLevel_six_Loan_all_180day  \\\n",
       "0                                        2   \n",
       "\n",
       "   i_cnt_interestLevel_six_Loan_all_365day  i_cnt_partner_v4_Loan_all_7day  \\\n",
       "0                                        5                               7   \n",
       "\n",
       "   i_cnt_partner_v4_all_LoanAssistPlat_7day  ...  \\\n",
       "0                                         1  ...   \n",
       "\n",
       "   m_freq_night_v4_all_all_365day  m_freq_record_v4_Loan_PriOthersBank_365day  \\\n",
       "0                            51.0                                         7.0   \n",
       "\n",
       "   m_incr_set_recent180daypartner_v4_Loan_LoanAssistPlat_365day  \\\n",
       "0                                                1.0              \n",
       "\n",
       "   m_length_last_v4_all_all_365day  \\\n",
       "0                           1.4537   \n",
       "\n",
       "   m_max_freq_record_daily_v4_all_Imbank_365day  \\\n",
       "0                                           7.0   \n",
       "\n",
       "   m_min_length_record_v4_Loan_all_365day  \\\n",
       "0                                     0.0   \n",
       "\n",
       "   m_ratio_cnt_partner_tailplat2_v3_Loan_all_365day  \\\n",
       "0                                            0.1935   \n",
       "\n",
       "   m_ratio_freq_dawn_Loan_all_365day  \\\n",
       "0                             0.0079   \n",
       "\n",
       "   m_ratio_freq_record_v4_Loan_LarStoBank_365day  new_date_ym  \n",
       "0                                         0.0059       202403  \n",
       "\n",
       "[1 rows x 68 columns]"
      ]
     },
     "execution_count": 5,
     "metadata": {},
     "output_type": "execute_result"
    }
   ],
   "source": [
    "data.head(1)"
   ]
  },
  {
   "cell_type": "markdown",
   "metadata": {},
   "source": [
    "## 1. 数据清洗与变量侦测"
   ]
  },
  {
   "cell_type": "markdown",
   "metadata": {},
   "source": [
    "### 1.1 去除异常月份"
   ]
  },
  {
   "cell_type": "code",
   "execution_count": 6,
   "metadata": {},
   "outputs": [
    {
     "data": {
      "text/plain": [
       "'开始分析机构样本情况'"
      ]
     },
     "metadata": {},
     "output_type": "display_data"
    },
    {
     "data": {
      "text/plain": [
       "'机构样本情况分析结束'"
      ]
     },
     "metadata": {},
     "output_type": "display_data"
    },
    {
     "data": {
      "text/plain": [
       "'输入data样本数为741764, 限制每个机构每月坏样本数>=10, 样本数>=1000'"
      ]
     },
     "metadata": {},
     "output_type": "display_data"
    },
    {
     "data": {
      "text/plain": [
       "'删去异常月份后数据大小为736933'"
      ]
     },
     "metadata": {},
     "output_type": "display_data"
    }
   ],
   "source": [
    "params = {\n",
    "    'data': data,\n",
    "    'minYmBadsample': 10,\n",
    "    'minYmSample': 1000\n",
    "}\n",
    "data = drop_abnormal_ym(**params)"
   ]
  },
  {
   "cell_type": "markdown",
   "metadata": {},
   "source": [
    "### 1.2 机构逐月坏样率概览"
   ]
  },
  {
   "cell_type": "code",
   "execution_count": 7,
   "metadata": {},
   "outputs": [
    {
     "data": {
      "text/plain": [
       "'开始分析机构样本情况'"
      ]
     },
     "metadata": {},
     "output_type": "display_data"
    },
    {
     "data": {
      "text/plain": [
       "'机构样本情况分析结束'"
      ]
     },
     "metadata": {},
     "output_type": "display_data"
    },
    {
     "data": {
      "text/html": [
       "<div>\n",
       "<style scoped>\n",
       "    .dataframe tbody tr th:only-of-type {\n",
       "        vertical-align: middle;\n",
       "    }\n",
       "\n",
       "    .dataframe tbody tr th {\n",
       "        vertical-align: top;\n",
       "    }\n",
       "\n",
       "    .dataframe thead th {\n",
       "        text-align: right;\n",
       "    }\n",
       "</style>\n",
       "<table border=\"1\" class=\"dataframe\">\n",
       "  <thead>\n",
       "    <tr style=\"text-align: right;\">\n",
       "      <th></th>\n",
       "      <th>机构</th>\n",
       "      <th>年月</th>\n",
       "      <th>单月坏样本数</th>\n",
       "      <th>单月总样本数</th>\n",
       "      <th>单月坏样率</th>\n",
       "      <th>总坏样本数</th>\n",
       "      <th>总样本数</th>\n",
       "      <th>总坏样率</th>\n",
       "    </tr>\n",
       "  </thead>\n",
       "  <tbody>\n",
       "    <tr>\n",
       "      <td>0</td>\n",
       "      <td>fd_hc</td>\n",
       "      <td>202402</td>\n",
       "      <td>1207</td>\n",
       "      <td>32120</td>\n",
       "      <td>0.038</td>\n",
       "      <td>4121</td>\n",
       "      <td>123958</td>\n",
       "      <td>0.033</td>\n",
       "    </tr>\n",
       "    <tr>\n",
       "      <td>1</td>\n",
       "      <td>fd_hc</td>\n",
       "      <td>202403</td>\n",
       "      <td>1635</td>\n",
       "      <td>44321</td>\n",
       "      <td>0.037</td>\n",
       "      <td>4121</td>\n",
       "      <td>123958</td>\n",
       "      <td>0.033</td>\n",
       "    </tr>\n",
       "  </tbody>\n",
       "</table>\n",
       "</div>"
      ],
      "text/plain": [
       "      机构      年月  单月坏样本数  单月总样本数  单月坏样率  总坏样本数    总样本数   总坏样率\n",
       "0  fd_hc  202402    1207   32120  0.038   4121  123958  0.033\n",
       "1  fd_hc  202403    1635   44321  0.037   4121  123958  0.033"
      ]
     },
     "metadata": {},
     "output_type": "display_data"
    }
   ],
   "source": [
    "datasetStatis = org_analysis(data)\n",
    "display(datasetStatis.head(2))\n",
    "datasetStatis.to_csv(\"process results/datasetStatis.csv\", index=False)"
   ]
  },
  {
   "cell_type": "markdown",
   "metadata": {},
   "source": [
    "### 1.3 变量分机构和总体坏样率概览"
   ]
  },
  {
   "cell_type": "code",
   "execution_count": 8,
   "metadata": {},
   "outputs": [],
   "source": [
    "channel = {'银行': ['字节放心借', '滴滴金融'], '非银': ['xk_hc','fd_hc', '长银消金', '久恒融担（恒昌）', '分期乐欺诈',\n",
    "       '宁夏海胜通'], '整体':list(data.new_org.unique())}"
   ]
  },
  {
   "cell_type": "code",
   "execution_count": 9,
   "metadata": {},
   "outputs": [
    {
     "name": "stderr",
     "output_type": "stream",
     "text": [
      "100%|██████████| 3/3 [00:23<00:00,  7.24s/it]\n"
     ]
    },
    {
     "data": {
      "text/html": [
       "<div>\n",
       "<style scoped>\n",
       "    .dataframe tbody tr th:only-of-type {\n",
       "        vertical-align: middle;\n",
       "    }\n",
       "\n",
       "    .dataframe tbody tr th {\n",
       "        vertical-align: top;\n",
       "    }\n",
       "\n",
       "    .dataframe thead th {\n",
       "        text-align: right;\n",
       "    }\n",
       "</style>\n",
       "<table border=\"1\" class=\"dataframe\">\n",
       "  <thead>\n",
       "    <tr style=\"text-align: right;\">\n",
       "      <th></th>\n",
       "      <th>机构</th>\n",
       "      <th>变量</th>\n",
       "      <th>-1111缺失率</th>\n",
       "      <th>-999缺失率</th>\n",
       "      <th>-1缺失率</th>\n",
       "      <th>nan缺失率</th>\n",
       "      <th>总缺失率</th>\n",
       "    </tr>\n",
       "  </thead>\n",
       "  <tbody>\n",
       "    <tr>\n",
       "      <td>163</td>\n",
       "      <td>长银消金</td>\n",
       "      <td>i_differ_mean_interestLevel_Loan_all_90_365day</td>\n",
       "      <td>0.034</td>\n",
       "      <td>0.005</td>\n",
       "      <td>0.002</td>\n",
       "      <td>0.0</td>\n",
       "      <td>0.041</td>\n",
       "    </tr>\n",
       "  </tbody>\n",
       "</table>\n",
       "</div>"
      ],
      "text/plain": [
       "       机构                                              变量  -1111缺失率  -999缺失率  \\\n",
       "163  长银消金  i_differ_mean_interestLevel_Loan_all_90_365day     0.034    0.005   \n",
       "\n",
       "     -1缺失率  nan缺失率   总缺失率  \n",
       "163  0.002     0.0  0.041  "
      ]
     },
     "metadata": {},
     "output_type": "display_data"
    },
    {
     "data": {
      "text/html": [
       "<div>\n",
       "<style scoped>\n",
       "    .dataframe tbody tr th:only-of-type {\n",
       "        vertical-align: middle;\n",
       "    }\n",
       "\n",
       "    .dataframe tbody tr th {\n",
       "        vertical-align: top;\n",
       "    }\n",
       "\n",
       "    .dataframe thead th {\n",
       "        text-align: right;\n",
       "    }\n",
       "</style>\n",
       "<table border=\"1\" class=\"dataframe\">\n",
       "  <thead>\n",
       "    <tr style=\"text-align: right;\">\n",
       "      <th></th>\n",
       "      <th>渠道</th>\n",
       "      <th>变量</th>\n",
       "      <th>-1111缺失率</th>\n",
       "      <th>-999缺失率</th>\n",
       "      <th>-1缺失率</th>\n",
       "      <th>nan缺失率</th>\n",
       "      <th>总缺失率</th>\n",
       "    </tr>\n",
       "  </thead>\n",
       "  <tbody>\n",
       "    <tr>\n",
       "      <td>68</td>\n",
       "      <td>非银</td>\n",
       "      <td>i_mom_cnt_180daypartner_v4_Loan_Imbank_360day</td>\n",
       "      <td>0.021</td>\n",
       "      <td>0.005</td>\n",
       "      <td>0.0</td>\n",
       "      <td>0.0</td>\n",
       "      <td>0.026</td>\n",
       "    </tr>\n",
       "  </tbody>\n",
       "</table>\n",
       "</div>"
      ],
      "text/plain": [
       "    渠道                                             变量  -1111缺失率  -999缺失率  \\\n",
       "68  非银  i_mom_cnt_180daypartner_v4_Loan_Imbank_360day     0.021    0.005   \n",
       "\n",
       "    -1缺失率  nan缺失率   总缺失率  \n",
       "68    0.0     0.0  0.026  "
      ]
     },
     "metadata": {},
     "output_type": "display_data"
    }
   ],
   "source": [
    "miss_org, miss_channel = missing_check(**{'data': data, 'channel': channel})\n",
    "display(miss_org.head(1), miss_channel.head(1))\n",
    "miss_org.to_csv('process results/miss_org.csv', index=False)\n",
    "miss_channel.to_csv('process results/miss_channel.csv', index=False)"
   ]
  },
  {
   "cell_type": "markdown",
   "metadata": {},
   "source": [
    "### 1.4 变量分机构和渠道psi概览"
   ]
  },
  {
   "cell_type": "code",
   "execution_count": 10,
   "metadata": {},
   "outputs": [
    {
     "name": "stderr",
     "output_type": "stream",
     "text": [
      "100%|██████████| 3/3 [04:29<00:00, 81.08s/it]\n"
     ]
    },
    {
     "data": {
      "text/html": [
       "<div>\n",
       "<style scoped>\n",
       "    .dataframe tbody tr th:only-of-type {\n",
       "        vertical-align: middle;\n",
       "    }\n",
       "\n",
       "    .dataframe tbody tr th {\n",
       "        vertical-align: top;\n",
       "    }\n",
       "\n",
       "    .dataframe thead th {\n",
       "        text-align: right;\n",
       "    }\n",
       "</style>\n",
       "<table border=\"1\" class=\"dataframe\">\n",
       "  <thead>\n",
       "    <tr style=\"text-align: right;\">\n",
       "      <th></th>\n",
       "      <th>机构</th>\n",
       "      <th>变量</th>\n",
       "      <th>区间</th>\n",
       "      <th>样本数</th>\n",
       "      <th>区间psi</th>\n",
       "      <th>最大psi</th>\n",
       "    </tr>\n",
       "  </thead>\n",
       "  <tbody>\n",
       "    <tr>\n",
       "      <td>1023</td>\n",
       "      <td>长银消金</td>\n",
       "      <td>m_ratio_freq_record_v4_Loan_LarStoBank_365day</td>\n",
       "      <td>Q4</td>\n",
       "      <td>10854</td>\n",
       "      <td>0.0000</td>\n",
       "      <td>0.0082</td>\n",
       "    </tr>\n",
       "    <tr>\n",
       "      <td>1022</td>\n",
       "      <td>长银消金</td>\n",
       "      <td>m_ratio_freq_record_v4_Loan_LarStoBank_365day</td>\n",
       "      <td>Q3</td>\n",
       "      <td>11185</td>\n",
       "      <td>0.0082</td>\n",
       "      <td>0.0082</td>\n",
       "    </tr>\n",
       "    <tr>\n",
       "      <td>1021</td>\n",
       "      <td>长银消金</td>\n",
       "      <td>m_ratio_freq_record_v4_Loan_LarStoBank_365day</td>\n",
       "      <td>Q2</td>\n",
       "      <td>11028</td>\n",
       "      <td>0.0033</td>\n",
       "      <td>0.0082</td>\n",
       "    </tr>\n",
       "    <tr>\n",
       "      <td>1020</td>\n",
       "      <td>长银消金</td>\n",
       "      <td>m_ratio_freq_record_v4_Loan_LarStoBank_365day</td>\n",
       "      <td>Q1</td>\n",
       "      <td>11034</td>\n",
       "      <td>0.0032</td>\n",
       "      <td>0.0082</td>\n",
       "    </tr>\n",
       "  </tbody>\n",
       "</table>\n",
       "</div>"
      ],
      "text/plain": [
       "        机构                                             变量  区间    样本数   区间psi  \\\n",
       "1023  长银消金  m_ratio_freq_record_v4_Loan_LarStoBank_365day  Q4  10854  0.0000   \n",
       "1022  长银消金  m_ratio_freq_record_v4_Loan_LarStoBank_365day  Q3  11185  0.0082   \n",
       "1021  长银消金  m_ratio_freq_record_v4_Loan_LarStoBank_365day  Q2  11028  0.0033   \n",
       "1020  长银消金  m_ratio_freq_record_v4_Loan_LarStoBank_365day  Q1  11034  0.0032   \n",
       "\n",
       "       最大psi  \n",
       "1023  0.0082  \n",
       "1022  0.0082  \n",
       "1021  0.0082  \n",
       "1020  0.0082  "
      ]
     },
     "metadata": {},
     "output_type": "display_data"
    },
    {
     "data": {
      "text/html": [
       "<div>\n",
       "<style scoped>\n",
       "    .dataframe tbody tr th:only-of-type {\n",
       "        vertical-align: middle;\n",
       "    }\n",
       "\n",
       "    .dataframe tbody tr th {\n",
       "        vertical-align: top;\n",
       "    }\n",
       "\n",
       "    .dataframe thead th {\n",
       "        text-align: right;\n",
       "    }\n",
       "</style>\n",
       "<table border=\"1\" class=\"dataframe\">\n",
       "  <thead>\n",
       "    <tr style=\"text-align: right;\">\n",
       "      <th></th>\n",
       "      <th>渠道</th>\n",
       "      <th>变量</th>\n",
       "      <th>区间</th>\n",
       "      <th>样本数</th>\n",
       "      <th>区间psi</th>\n",
       "      <th>最大psi</th>\n",
       "    </tr>\n",
       "  </thead>\n",
       "  <tbody>\n",
       "    <tr>\n",
       "      <td>267</td>\n",
       "      <td>非银</td>\n",
       "      <td>m_ratio_freq_record_v4_Loan_LarStoBank_365day</td>\n",
       "      <td>Q4</td>\n",
       "      <td>113601</td>\n",
       "      <td>0.0000</td>\n",
       "      <td>0.3228</td>\n",
       "    </tr>\n",
       "    <tr>\n",
       "      <td>266</td>\n",
       "      <td>非银</td>\n",
       "      <td>m_ratio_freq_record_v4_Loan_LarStoBank_365day</td>\n",
       "      <td>Q3</td>\n",
       "      <td>117440</td>\n",
       "      <td>0.0075</td>\n",
       "      <td>0.3228</td>\n",
       "    </tr>\n",
       "    <tr>\n",
       "      <td>265</td>\n",
       "      <td>非银</td>\n",
       "      <td>m_ratio_freq_record_v4_Loan_LarStoBank_365day</td>\n",
       "      <td>Q2</td>\n",
       "      <td>116939</td>\n",
       "      <td>0.0011</td>\n",
       "      <td>0.3228</td>\n",
       "    </tr>\n",
       "    <tr>\n",
       "      <td>264</td>\n",
       "      <td>非银</td>\n",
       "      <td>m_ratio_freq_record_v4_Loan_LarStoBank_365day</td>\n",
       "      <td>Q1</td>\n",
       "      <td>116230</td>\n",
       "      <td>0.3228</td>\n",
       "      <td>0.3228</td>\n",
       "    </tr>\n",
       "  </tbody>\n",
       "</table>\n",
       "</div>"
      ],
      "text/plain": [
       "     渠道                                             变量  区间     样本数   区间psi  \\\n",
       "267  非银  m_ratio_freq_record_v4_Loan_LarStoBank_365day  Q4  113601  0.0000   \n",
       "266  非银  m_ratio_freq_record_v4_Loan_LarStoBank_365day  Q3  117440  0.0075   \n",
       "265  非银  m_ratio_freq_record_v4_Loan_LarStoBank_365day  Q2  116939  0.0011   \n",
       "264  非银  m_ratio_freq_record_v4_Loan_LarStoBank_365day  Q1  116230  0.3228   \n",
       "\n",
       "      最大psi  \n",
       "267  0.3228  \n",
       "266  0.3228  \n",
       "265  0.3228  \n",
       "264  0.3228  "
      ]
     },
     "metadata": {},
     "output_type": "display_data"
    }
   ],
   "source": [
    "res_psi_org, res_psi_channel = detect_psi(**{'data': data, 'channel': channel})\n",
    "res_psi_org.to_csv(\"process results/psi_org.csv\", index=False)\n",
    "res_psi_channel.to_csv('process results/psi_channel.csv', index=False)\n",
    "display(res_psi_org.head(4), res_psi_channel.head(4))"
   ]
  },
  {
   "cell_type": "markdown",
   "metadata": {},
   "source": [
    "### 1.5 变量分机构和渠道和总体iv概览"
   ]
  },
  {
   "cell_type": "code",
   "execution_count": 11,
   "metadata": {},
   "outputs": [
    {
     "name": "stderr",
     "output_type": "stream",
     "text": [
      " 67%|██████▋   | 2/3 [00:54<00:27, 27.48s/it]"
     ]
    },
    {
     "data": {
      "text/plain": [
       "'机构智汇融租下aft_v4up2_score计算iv失败, cannot do a non-empty take from an empty axes.'"
      ]
     },
     "metadata": {},
     "output_type": "display_data"
    },
    {
     "name": "stderr",
     "output_type": "stream",
     "text": [
      "100%|██████████| 3/3 [01:36<00:00, 31.74s/it]\n"
     ]
    },
    {
     "data": {
      "text/html": [
       "<div>\n",
       "<style scoped>\n",
       "    .dataframe tbody tr th:only-of-type {\n",
       "        vertical-align: middle;\n",
       "    }\n",
       "\n",
       "    .dataframe tbody tr th {\n",
       "        vertical-align: top;\n",
       "    }\n",
       "\n",
       "    .dataframe thead th {\n",
       "        text-align: right;\n",
       "    }\n",
       "</style>\n",
       "<table border=\"1\" class=\"dataframe\">\n",
       "  <thead>\n",
       "    <tr style=\"text-align: right;\">\n",
       "      <th></th>\n",
       "      <th>机构</th>\n",
       "      <th>变量</th>\n",
       "      <th>iv</th>\n",
       "    </tr>\n",
       "  </thead>\n",
       "  <tbody>\n",
       "    <tr>\n",
       "      <td>308</td>\n",
       "      <td>长银消金</td>\n",
       "      <td>aft_v4up2_score</td>\n",
       "      <td>0.1590</td>\n",
       "    </tr>\n",
       "    <tr>\n",
       "      <td>313</td>\n",
       "      <td>长银消金</td>\n",
       "      <td>i_incr_set_recent90daypartner_v4_all_LoanAssis...</td>\n",
       "      <td>0.0621</td>\n",
       "    </tr>\n",
       "  </tbody>\n",
       "</table>\n",
       "</div>"
      ],
      "text/plain": [
       "       机构                                                 变量      iv\n",
       "308  长银消金                                    aft_v4up2_score  0.1590\n",
       "313  长银消金  i_incr_set_recent90daypartner_v4_all_LoanAssis...  0.0621"
      ]
     },
     "metadata": {},
     "output_type": "display_data"
    },
    {
     "data": {
      "text/html": [
       "<div>\n",
       "<style scoped>\n",
       "    .dataframe tbody tr th:only-of-type {\n",
       "        vertical-align: middle;\n",
       "    }\n",
       "\n",
       "    .dataframe tbody tr th {\n",
       "        vertical-align: top;\n",
       "    }\n",
       "\n",
       "    .dataframe thead th {\n",
       "        text-align: right;\n",
       "    }\n",
       "</style>\n",
       "<table border=\"1\" class=\"dataframe\">\n",
       "  <thead>\n",
       "    <tr style=\"text-align: right;\">\n",
       "      <th></th>\n",
       "      <th>渠道</th>\n",
       "      <th>变量</th>\n",
       "      <th>iv</th>\n",
       "    </tr>\n",
       "  </thead>\n",
       "  <tbody>\n",
       "    <tr>\n",
       "      <td>104</td>\n",
       "      <td>非银</td>\n",
       "      <td>i_cnt_slpPartner_Loan_all_90day</td>\n",
       "      <td>0.0750</td>\n",
       "    </tr>\n",
       "    <tr>\n",
       "      <td>108</td>\n",
       "      <td>非银</td>\n",
       "      <td>i_incr_set_recent30dayecipartner_la_Loan_all_2...</td>\n",
       "      <td>0.0671</td>\n",
       "    </tr>\n",
       "  </tbody>\n",
       "</table>\n",
       "</div>"
      ],
      "text/plain": [
       "     渠道                                                 变量      iv\n",
       "104  非银                    i_cnt_slpPartner_Loan_all_90day  0.0750\n",
       "108  非银  i_incr_set_recent30dayecipartner_la_Loan_all_2...  0.0671"
      ]
     },
     "metadata": {},
     "output_type": "display_data"
    }
   ],
   "source": [
    "res_iv_org, res_iv_channel = detect_iv(**{'data':data, 'method':'quantile', 'bins':5, 'channel': channel})\n",
    "res_iv_org.to_csv('process results/iv_org.csv', index=False)\n",
    "res_iv_channel.to_csv(\"process results/iv_channel.csv\", index=False)\n",
    "display(res_iv_org.head(2), res_iv_channel.head(2))"
   ]
  },
  {
   "cell_type": "markdown",
   "metadata": {},
   "source": [
    "### 1.6 去除高缺失率变量"
   ]
  },
  {
   "cell_type": "code",
   "execution_count": 12,
   "metadata": {},
   "outputs": [
    {
     "data": {
      "text/plain": [
       "'输入data列数为68'"
      ]
     },
     "metadata": {},
     "output_type": "display_data"
    },
    {
     "data": {
      "text/plain": [
       "'全部变量都不满足删除条件'"
      ]
     },
     "metadata": {},
     "output_type": "display_data"
    }
   ],
   "source": [
    "data = drop_highmiss_features(**{'data':data, 'ratio': 0.3, 'cnt': 3, 'miss_org': miss_org, 'miss_channel': miss_channel})"
   ]
  },
  {
   "cell_type": "markdown",
   "metadata": {},
   "source": [
    "### 1.7去除高psi变量"
   ]
  },
  {
   "cell_type": "code",
   "execution_count": 13,
   "metadata": {},
   "outputs": [
    {
     "data": {
      "text/plain": [
       "'[], 在2以上机构数出现高psi'"
      ]
     },
     "metadata": {},
     "output_type": "display_data"
    }
   ],
   "source": [
    "data = drop_highpsi_features(**{'data':data, 'res_psi_org':res_psi_org, 'cnt':2, 'ratio':0.1})"
   ]
  },
  {
   "cell_type": "code",
   "execution_count": 14,
   "metadata": {},
   "outputs": [],
   "source": [
    "def drop_lowiv_features(**kwargs) -> pd.DataFrame:\n",
    "    data = kwargs.get('data').copy()\n",
    "    res_iv_org = kwargs.get('res_iv_org')\n",
    "    res_iv_channel = kwargs.get('res_iv_channel')\n",
    "    miniv = kwargs.get('miniv')\n",
    "    cnt = kwargs.get('cnt')\n",
    "    \n",
    "    res_iv_org['是低iv机构'] = np.where(res_iv_org['iv']<miniv, 1, 0)\n",
    "    res_iv_org['低iv机构数'] = res_iv_org.groupby('变量')['是低iv机构'].transform('sum')\n",
    "    drop_features = res_iv_org[res_iv_org.低iv机构数>cnt]['变量']\n",
    "    keep_features = res_iv_channel[res_iv_channel.iv>=miniv]['变量']\n",
    "    drop_features = list(set((set(drop_features)-set(keep_features))).intersection(data.columns))\n",
    "    if len(drop_features)>0:\n",
    "        display(f\"去除在{cnt}上个机构iv都小于{miniv} 且在任何渠道上iv都小于{miniv}的变量, 共{len(drop_features)}个\")\n",
    "        data.drop(columns=drop_features, inplace=True)\n",
    "    else:\n",
    "        display(\"没有符合删去条件的变量\")\n",
    "    return data"
   ]
  },
  {
   "cell_type": "code",
   "execution_count": 15,
   "metadata": {},
   "outputs": [
    {
     "data": {
      "text/plain": [
       "'去除在2上个机构iv都小于0.1 且在任何渠道上iv都小于0.1的变量, 共54个'"
      ]
     },
     "metadata": {},
     "output_type": "display_data"
    },
    {
     "data": {
      "text/html": [
       "<div>\n",
       "<style scoped>\n",
       "    .dataframe tbody tr th:only-of-type {\n",
       "        vertical-align: middle;\n",
       "    }\n",
       "\n",
       "    .dataframe tbody tr th {\n",
       "        vertical-align: top;\n",
       "    }\n",
       "\n",
       "    .dataframe thead th {\n",
       "        text-align: right;\n",
       "    }\n",
       "</style>\n",
       "<table border=\"1\" class=\"dataframe\">\n",
       "  <thead>\n",
       "    <tr style=\"text-align: right;\">\n",
       "      <th></th>\n",
       "      <th>mobile_org</th>\n",
       "      <th>new_date</th>\n",
       "      <th>new_org</th>\n",
       "      <th>aft_v4up2_score</th>\n",
       "      <th>new_target</th>\n",
       "      <th>i_freq_record_v4_Loan_AutoFinance_180day</th>\n",
       "      <th>i_incr_set_recent30daydeviceid_v4_all_all_210day</th>\n",
       "      <th>i_incr_set_recent7daylapfpartner_la_Loan_all_180day</th>\n",
       "      <th>i_incr_set_recent90daydeviceid_v4_all_Imbank_270day</th>\n",
       "      <th>i_incr_set_recent90daypartner_v4_all_LoanAssistPlat_365day</th>\n",
       "      <th>i_max_freq_record_daily_v4_all_LoanAssistPlat_7day</th>\n",
       "      <th>i_ratio_cnt_partner_v4_Loan_AutoFinance_365day</th>\n",
       "      <th>i_ratio_freq_record_v4_Loan_AutoFinance_365day</th>\n",
       "      <th>new_date_ym</th>\n",
       "    </tr>\n",
       "  </thead>\n",
       "  <tbody>\n",
       "    <tr>\n",
       "      <td>0</td>\n",
       "      <td>32210e2a7b9bbd34fd15bba19493a4e9</td>\n",
       "      <td>20240305</td>\n",
       "      <td>xk_hc</td>\n",
       "      <td>49.9037</td>\n",
       "      <td>0.0</td>\n",
       "      <td>1</td>\n",
       "      <td>0</td>\n",
       "      <td>1</td>\n",
       "      <td>0</td>\n",
       "      <td>0</td>\n",
       "      <td>1</td>\n",
       "      <td>0.0645</td>\n",
       "      <td>0.0060</td>\n",
       "      <td>202403</td>\n",
       "    </tr>\n",
       "    <tr>\n",
       "      <td>1</td>\n",
       "      <td>ece1d079c32e2af8e17ba008e3db0cb8</td>\n",
       "      <td>20230527</td>\n",
       "      <td>字节放心借</td>\n",
       "      <td>53.9913</td>\n",
       "      <td>0.0</td>\n",
       "      <td>0</td>\n",
       "      <td>0</td>\n",
       "      <td>0</td>\n",
       "      <td>0</td>\n",
       "      <td>0</td>\n",
       "      <td>0</td>\n",
       "      <td>0.0000</td>\n",
       "      <td>0.0000</td>\n",
       "      <td>202305</td>\n",
       "    </tr>\n",
       "    <tr>\n",
       "      <td>2</td>\n",
       "      <td>3c479be4d5c0f776912721098dc5ffd2</td>\n",
       "      <td>20231007</td>\n",
       "      <td>滴滴金融</td>\n",
       "      <td>54.3530</td>\n",
       "      <td>0.0</td>\n",
       "      <td>0</td>\n",
       "      <td>0</td>\n",
       "      <td>0</td>\n",
       "      <td>0</td>\n",
       "      <td>1</td>\n",
       "      <td>0</td>\n",
       "      <td>0.0000</td>\n",
       "      <td>0.0000</td>\n",
       "      <td>202310</td>\n",
       "    </tr>\n",
       "    <tr>\n",
       "      <td>3</td>\n",
       "      <td>72447e1a5bd41a70d373b17b8393b310</td>\n",
       "      <td>20240413</td>\n",
       "      <td>xk_hc</td>\n",
       "      <td>46.4381</td>\n",
       "      <td>0.0</td>\n",
       "      <td>1</td>\n",
       "      <td>0</td>\n",
       "      <td>0</td>\n",
       "      <td>0</td>\n",
       "      <td>4</td>\n",
       "      <td>0</td>\n",
       "      <td>0.0313</td>\n",
       "      <td>0.0103</td>\n",
       "      <td>202404</td>\n",
       "    </tr>\n",
       "    <tr>\n",
       "      <td>4</td>\n",
       "      <td>fc251d17e20b9d967cdd56f64d19df86</td>\n",
       "      <td>20230607</td>\n",
       "      <td>滴滴金融</td>\n",
       "      <td>49.9144</td>\n",
       "      <td>0.0</td>\n",
       "      <td>0</td>\n",
       "      <td>1</td>\n",
       "      <td>1</td>\n",
       "      <td>2</td>\n",
       "      <td>3</td>\n",
       "      <td>5</td>\n",
       "      <td>0.0000</td>\n",
       "      <td>0.0000</td>\n",
       "      <td>202306</td>\n",
       "    </tr>\n",
       "    <tr>\n",
       "      <td>...</td>\n",
       "      <td>...</td>\n",
       "      <td>...</td>\n",
       "      <td>...</td>\n",
       "      <td>...</td>\n",
       "      <td>...</td>\n",
       "      <td>...</td>\n",
       "      <td>...</td>\n",
       "      <td>...</td>\n",
       "      <td>...</td>\n",
       "      <td>...</td>\n",
       "      <td>...</td>\n",
       "      <td>...</td>\n",
       "      <td>...</td>\n",
       "      <td>...</td>\n",
       "    </tr>\n",
       "    <tr>\n",
       "      <td>741759</td>\n",
       "      <td>2989771776edbc47a40b23920213e44d</td>\n",
       "      <td>20231003</td>\n",
       "      <td>智汇融租</td>\n",
       "      <td>NaN</td>\n",
       "      <td>0.0</td>\n",
       "      <td>0</td>\n",
       "      <td>0</td>\n",
       "      <td>0</td>\n",
       "      <td>0</td>\n",
       "      <td>0</td>\n",
       "      <td>0</td>\n",
       "      <td>0.0000</td>\n",
       "      <td>0.0000</td>\n",
       "      <td>202310</td>\n",
       "    </tr>\n",
       "    <tr>\n",
       "      <td>741760</td>\n",
       "      <td>93a8e604c3190bab6b9e338578c0ae54</td>\n",
       "      <td>20230612</td>\n",
       "      <td>智汇融租</td>\n",
       "      <td>NaN</td>\n",
       "      <td>0.0</td>\n",
       "      <td>0</td>\n",
       "      <td>0</td>\n",
       "      <td>0</td>\n",
       "      <td>0</td>\n",
       "      <td>4</td>\n",
       "      <td>0</td>\n",
       "      <td>0.0000</td>\n",
       "      <td>0.0000</td>\n",
       "      <td>202306</td>\n",
       "    </tr>\n",
       "    <tr>\n",
       "      <td>741761</td>\n",
       "      <td>66455d90d3c35316f60c5aaf12512a93</td>\n",
       "      <td>20230208</td>\n",
       "      <td>智汇融租</td>\n",
       "      <td>NaN</td>\n",
       "      <td>0.0</td>\n",
       "      <td>0</td>\n",
       "      <td>0</td>\n",
       "      <td>0</td>\n",
       "      <td>0</td>\n",
       "      <td>0</td>\n",
       "      <td>0</td>\n",
       "      <td>0.0000</td>\n",
       "      <td>0.0000</td>\n",
       "      <td>202302</td>\n",
       "    </tr>\n",
       "    <tr>\n",
       "      <td>741762</td>\n",
       "      <td>47c73e4a6ac5e5877eca7007804e8f68</td>\n",
       "      <td>20230406</td>\n",
       "      <td>智汇融租</td>\n",
       "      <td>NaN</td>\n",
       "      <td>1.0</td>\n",
       "      <td>1</td>\n",
       "      <td>0</td>\n",
       "      <td>1</td>\n",
       "      <td>0</td>\n",
       "      <td>0</td>\n",
       "      <td>0</td>\n",
       "      <td>0.0833</td>\n",
       "      <td>0.0526</td>\n",
       "      <td>202304</td>\n",
       "    </tr>\n",
       "    <tr>\n",
       "      <td>741763</td>\n",
       "      <td>4fbb99972760af5c71fbb8f201e48605</td>\n",
       "      <td>20230722</td>\n",
       "      <td>智汇融租</td>\n",
       "      <td>NaN</td>\n",
       "      <td>0.0</td>\n",
       "      <td>0</td>\n",
       "      <td>0</td>\n",
       "      <td>0</td>\n",
       "      <td>1</td>\n",
       "      <td>3</td>\n",
       "      <td>0</td>\n",
       "      <td>0.0000</td>\n",
       "      <td>0.0000</td>\n",
       "      <td>202307</td>\n",
       "    </tr>\n",
       "  </tbody>\n",
       "</table>\n",
       "<p>736933 rows × 14 columns</p>\n",
       "</div>"
      ],
      "text/plain": [
       "                              mobile_org  new_date new_org  aft_v4up2_score  \\\n",
       "0       32210e2a7b9bbd34fd15bba19493a4e9  20240305   xk_hc          49.9037   \n",
       "1       ece1d079c32e2af8e17ba008e3db0cb8  20230527   字节放心借          53.9913   \n",
       "2       3c479be4d5c0f776912721098dc5ffd2  20231007    滴滴金融          54.3530   \n",
       "3       72447e1a5bd41a70d373b17b8393b310  20240413   xk_hc          46.4381   \n",
       "4       fc251d17e20b9d967cdd56f64d19df86  20230607    滴滴金融          49.9144   \n",
       "...                                  ...       ...     ...              ...   \n",
       "741759  2989771776edbc47a40b23920213e44d  20231003    智汇融租              NaN   \n",
       "741760  93a8e604c3190bab6b9e338578c0ae54  20230612    智汇融租              NaN   \n",
       "741761  66455d90d3c35316f60c5aaf12512a93  20230208    智汇融租              NaN   \n",
       "741762  47c73e4a6ac5e5877eca7007804e8f68  20230406    智汇融租              NaN   \n",
       "741763  4fbb99972760af5c71fbb8f201e48605  20230722    智汇融租              NaN   \n",
       "\n",
       "        new_target  i_freq_record_v4_Loan_AutoFinance_180day  \\\n",
       "0              0.0                                         1   \n",
       "1              0.0                                         0   \n",
       "2              0.0                                         0   \n",
       "3              0.0                                         1   \n",
       "4              0.0                                         0   \n",
       "...            ...                                       ...   \n",
       "741759         0.0                                         0   \n",
       "741760         0.0                                         0   \n",
       "741761         0.0                                         0   \n",
       "741762         1.0                                         1   \n",
       "741763         0.0                                         0   \n",
       "\n",
       "        i_incr_set_recent30daydeviceid_v4_all_all_210day  \\\n",
       "0                                                      0   \n",
       "1                                                      0   \n",
       "2                                                      0   \n",
       "3                                                      0   \n",
       "4                                                      1   \n",
       "...                                                  ...   \n",
       "741759                                                 0   \n",
       "741760                                                 0   \n",
       "741761                                                 0   \n",
       "741762                                                 0   \n",
       "741763                                                 0   \n",
       "\n",
       "        i_incr_set_recent7daylapfpartner_la_Loan_all_180day  \\\n",
       "0                                                       1     \n",
       "1                                                       0     \n",
       "2                                                       0     \n",
       "3                                                       0     \n",
       "4                                                       1     \n",
       "...                                                   ...     \n",
       "741759                                                  0     \n",
       "741760                                                  0     \n",
       "741761                                                  0     \n",
       "741762                                                  1     \n",
       "741763                                                  0     \n",
       "\n",
       "        i_incr_set_recent90daydeviceid_v4_all_Imbank_270day  \\\n",
       "0                                                       0     \n",
       "1                                                       0     \n",
       "2                                                       0     \n",
       "3                                                       0     \n",
       "4                                                       2     \n",
       "...                                                   ...     \n",
       "741759                                                  0     \n",
       "741760                                                  0     \n",
       "741761                                                  0     \n",
       "741762                                                  0     \n",
       "741763                                                  1     \n",
       "\n",
       "        i_incr_set_recent90daypartner_v4_all_LoanAssistPlat_365day  \\\n",
       "0                                                       0            \n",
       "1                                                       0            \n",
       "2                                                       1            \n",
       "3                                                       4            \n",
       "4                                                       3            \n",
       "...                                                   ...            \n",
       "741759                                                  0            \n",
       "741760                                                  4            \n",
       "741761                                                  0            \n",
       "741762                                                  0            \n",
       "741763                                                  3            \n",
       "\n",
       "        i_max_freq_record_daily_v4_all_LoanAssistPlat_7day  \\\n",
       "0                                                       1    \n",
       "1                                                       0    \n",
       "2                                                       0    \n",
       "3                                                       0    \n",
       "4                                                       5    \n",
       "...                                                   ...    \n",
       "741759                                                  0    \n",
       "741760                                                  0    \n",
       "741761                                                  0    \n",
       "741762                                                  0    \n",
       "741763                                                  0    \n",
       "\n",
       "        i_ratio_cnt_partner_v4_Loan_AutoFinance_365day  \\\n",
       "0                                               0.0645   \n",
       "1                                               0.0000   \n",
       "2                                               0.0000   \n",
       "3                                               0.0313   \n",
       "4                                               0.0000   \n",
       "...                                                ...   \n",
       "741759                                          0.0000   \n",
       "741760                                          0.0000   \n",
       "741761                                          0.0000   \n",
       "741762                                          0.0833   \n",
       "741763                                          0.0000   \n",
       "\n",
       "        i_ratio_freq_record_v4_Loan_AutoFinance_365day new_date_ym  \n",
       "0                                               0.0060      202403  \n",
       "1                                               0.0000      202305  \n",
       "2                                               0.0000      202310  \n",
       "3                                               0.0103      202404  \n",
       "4                                               0.0000      202306  \n",
       "...                                                ...         ...  \n",
       "741759                                          0.0000      202310  \n",
       "741760                                          0.0000      202306  \n",
       "741761                                          0.0000      202302  \n",
       "741762                                          0.0526      202304  \n",
       "741763                                          0.0000      202307  \n",
       "\n",
       "[736933 rows x 14 columns]"
      ]
     },
     "execution_count": 15,
     "metadata": {},
     "output_type": "execute_result"
    }
   ],
   "source": [
    "data = drop_lowiv_features(**{'data':data, 'miniv':0.1, 'cnt':2, 'res_iv_org':res_iv_org, 'res_iv_channel': res_iv_channel})"
   ]
  },
  {
   "cell_type": "code",
   "execution_count": null,
   "metadata": {},
   "outputs": [],
   "source": []
  }
 ],
 "metadata": {
  "kernelspec": {
   "display_name": "Python 3",
   "language": "python",
   "name": "python3"
  },
  "language_info": {
   "codemirror_mode": {
    "name": "ipython",
    "version": 3
   },
   "file_extension": ".py",
   "mimetype": "text/x-python",
   "name": "python",
   "nbconvert_exporter": "python",
   "pygments_lexer": "ipython3",
   "version": "3.6.5"
  }
 },
 "nbformat": 4,
 "nbformat_minor": 4
}
