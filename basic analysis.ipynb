{
 "cells": [
  {
   "cell_type": "code",
   "execution_count": 3,
   "metadata": {},
   "outputs": [],
   "source": [
    "from main.utils.analysis import *\n",
    "%matplotlib inline"
   ]
  },
  {
   "cell_type": "code",
   "execution_count": 4,
   "metadata": {},
   "outputs": [
    {
     "name": "stdout",
     "output_type": "stream",
     "text": [
      "原始数据有2647807条, 根据['test_id', 'idnumber', 'mobile', 'apply_date']去重且只保留标签列[0,1]的数据\n",
      "去重后数据有2647807条\n",
      "test_id全为0, 去除该列\n",
      "target, org被重命名为new_target, new_org; apply_date被格式化为new_date, new_date_ym两列\n"
     ]
    }
   ],
   "source": [
    "params = {'data_pth':'data/大麦.csv',\n",
    "    'date_colName': 'apply_date',\n",
    "    'y_colName': 'target',\n",
    "    'org_colName':'org',\n",
    "    'data_encode':'utf-8',\n",
    "    'key_colNames' : ['test_id', 'idnumber', 'mobile', 'apply_date']}\n",
    "data = get_dataset(**params)"
   ]
  },
  {
   "cell_type": "markdown",
   "metadata": {},
   "source": [
    "## 1. 数据分析(EDA)"
   ]
  },
  {
   "cell_type": "markdown",
   "metadata": {},
   "source": [
    "### 1.1 去除异常月份"
   ]
  },
  {
   "cell_type": "code",
   "execution_count": 5,
   "metadata": {},
   "outputs": [
    {
     "name": "stdout",
     "output_type": "stream",
     "text": [
      "开始分析机构样本情况\n",
      "机构样本情况分析结束\n"
     ]
    },
    {
     "data": {
      "text/plain": [
       "'输入data样本数为2647807, 限制每个机构每月坏样本数>=10, 样本数>=1000'"
      ]
     },
     "metadata": {},
     "output_type": "display_data"
    },
    {
     "data": {
      "text/plain": [
       "'删去异常月份后数据大小为2581292'"
      ]
     },
     "metadata": {},
     "output_type": "display_data"
    },
    {
     "data": {
      "text/html": [
       "<div>\n",
       "<style scoped>\n",
       "    .dataframe tbody tr th:only-of-type {\n",
       "        vertical-align: middle;\n",
       "    }\n",
       "\n",
       "    .dataframe tbody tr th {\n",
       "        vertical-align: top;\n",
       "    }\n",
       "\n",
       "    .dataframe thead th {\n",
       "        text-align: right;\n",
       "    }\n",
       "</style>\n",
       "<table border=\"1\" class=\"dataframe\">\n",
       "  <thead>\n",
       "    <tr style=\"text-align: right;\">\n",
       "      <th></th>\n",
       "      <th>idnumber</th>\n",
       "      <th>mobile</th>\n",
       "      <th>new_date</th>\n",
       "      <th>f1</th>\n",
       "      <th>f2</th>\n",
       "      <th>f3</th>\n",
       "      <th>f4</th>\n",
       "      <th>f5</th>\n",
       "      <th>f6</th>\n",
       "      <th>f7</th>\n",
       "      <th>...</th>\n",
       "      <th>f75</th>\n",
       "      <th>f76</th>\n",
       "      <th>f77</th>\n",
       "      <th>f78</th>\n",
       "      <th>f79</th>\n",
       "      <th>f80</th>\n",
       "      <th>tag</th>\n",
       "      <th>new_target</th>\n",
       "      <th>new_org</th>\n",
       "      <th>new_date_ym</th>\n",
       "    </tr>\n",
       "  </thead>\n",
       "  <tbody>\n",
       "    <tr>\n",
       "      <td>0</td>\n",
       "      <td>22d8a364789d6db3775b9933db375e03</td>\n",
       "      <td>7e994d7983181bd8418f3050bc850c50</td>\n",
       "      <td>20230820</td>\n",
       "      <td>0.2</td>\n",
       "      <td>0.3</td>\n",
       "      <td>0.7</td>\n",
       "      <td>0.6</td>\n",
       "      <td>0.1</td>\n",
       "      <td>1.0</td>\n",
       "      <td>0.3</td>\n",
       "      <td>...</td>\n",
       "      <td>1.0</td>\n",
       "      <td>0.0</td>\n",
       "      <td>0.0</td>\n",
       "      <td>13.0</td>\n",
       "      <td>0.0</td>\n",
       "      <td>0.0</td>\n",
       "      <td>normal</td>\n",
       "      <td>0</td>\n",
       "      <td>202403280001_长银消金_360</td>\n",
       "      <td>202308</td>\n",
       "    </tr>\n",
       "  </tbody>\n",
       "</table>\n",
       "<p>1 rows × 87 columns</p>\n",
       "</div>"
      ],
      "text/plain": [
       "                           idnumber                            mobile  \\\n",
       "0  22d8a364789d6db3775b9933db375e03  7e994d7983181bd8418f3050bc850c50   \n",
       "\n",
       "   new_date   f1   f2   f3   f4   f5   f6   f7  ...  f75  f76  f77   f78  f79  \\\n",
       "0  20230820  0.2  0.3  0.7  0.6  0.1  1.0  0.3  ...  1.0  0.0  0.0  13.0  0.0   \n",
       "\n",
       "   f80     tag  new_target                new_org  new_date_ym  \n",
       "0  0.0  normal           0  202403280001_长银消金_360       202308  \n",
       "\n",
       "[1 rows x 87 columns]"
      ]
     },
     "metadata": {},
     "output_type": "display_data"
    }
   ],
   "source": [
    "params = {\n",
    "    'data': data,\n",
    "    'minYmBadsample': 10,\n",
    "    'minYmSample': 1000\n",
    "}\n",
    "data = drop_abnormal_ym(**params)"
   ]
  },
  {
   "cell_type": "markdown",
   "metadata": {},
   "source": [
    "### 1.2 机构逐月坏样率概览"
   ]
  },
  {
   "cell_type": "code",
   "execution_count": 6,
   "metadata": {},
   "outputs": [
    {
     "name": "stdout",
     "output_type": "stream",
     "text": [
      "开始分析机构样本情况\n",
      "机构样本情况分析结束\n"
     ]
    },
    {
     "data": {
      "text/html": [
       "<div>\n",
       "<style scoped>\n",
       "    .dataframe tbody tr th:only-of-type {\n",
       "        vertical-align: middle;\n",
       "    }\n",
       "\n",
       "    .dataframe tbody tr th {\n",
       "        vertical-align: top;\n",
       "    }\n",
       "\n",
       "    .dataframe thead th {\n",
       "        text-align: right;\n",
       "    }\n",
       "</style>\n",
       "<table border=\"1\" class=\"dataframe\">\n",
       "  <thead>\n",
       "    <tr style=\"text-align: right;\">\n",
       "      <th></th>\n",
       "      <th>机构</th>\n",
       "      <th>年月</th>\n",
       "      <th>单月坏样本数</th>\n",
       "      <th>单月总样本数</th>\n",
       "      <th>单月坏样率</th>\n",
       "      <th>总坏样本数</th>\n",
       "      <th>总样本数</th>\n",
       "      <th>总坏样率</th>\n",
       "    </tr>\n",
       "  </thead>\n",
       "  <tbody>\n",
       "    <tr>\n",
       "      <td>0</td>\n",
       "      <td>202401210004_华夏银行（京东金条）</td>\n",
       "      <td>202306</td>\n",
       "      <td>778</td>\n",
       "      <td>5112</td>\n",
       "      <td>0.152</td>\n",
       "      <td>778</td>\n",
       "      <td>5112</td>\n",
       "      <td>0.152</td>\n",
       "    </tr>\n",
       "    <tr>\n",
       "      <td>1</td>\n",
       "      <td>202403280001_长银消金_360</td>\n",
       "      <td>202308</td>\n",
       "      <td>117</td>\n",
       "      <td>11922</td>\n",
       "      <td>0.010</td>\n",
       "      <td>551</td>\n",
       "      <td>58631</td>\n",
       "      <td>0.009</td>\n",
       "    </tr>\n",
       "  </tbody>\n",
       "</table>\n",
       "</div>"
      ],
      "text/plain": [
       "                        机构      年月  单月坏样本数  单月总样本数  单月坏样率  总坏样本数   总样本数   总坏样率\n",
       "0  202401210004_华夏银行（京东金条）  202306     778    5112  0.152    778   5112  0.152\n",
       "1    202403280001_长银消金_360  202308     117   11922  0.010    551  58631  0.009"
      ]
     },
     "metadata": {},
     "output_type": "display_data"
    }
   ],
   "source": [
    "datasetStatis = org_analysis(data)\n",
    "display(datasetStatis.head(2))\n",
    "datasetStatis.to_csv(\"process results/datasetStatis.csv\", index=False)"
   ]
  },
  {
   "cell_type": "markdown",
   "metadata": {},
   "source": [
    "### 1.3 变量分机构和总体坏样率概览"
   ]
  },
  {
   "cell_type": "code",
   "execution_count": 7,
   "metadata": {},
   "outputs": [],
   "source": [
    "channel = {'银行': ['202407100001_青岛银行','202409260001_滴滴金融_新户',\n",
    "                   '202409260002_滴滴金融_老户', '20241205_光大信用卡_提额',\n",
    "                   '202412110001_浦发信用卡_贷前', '202412110002_浦发信用卡_贷中监控',\n",
    "                   '202401210004_华夏银行（京东金条）','202412090001_广州农商行','202408260001_上海银行',\n",
    "                    '202502250001-友利银行', '202503110003-上海银行信贷','202503240001-晋商银行信用卡', '202503110001-上海银行信贷'],\n",
    "           '非银': ['202403280001_长银消金_360','202403280002_长银消金_唯品会', '20240328_长银消金_百融',\n",
    "                     '202405290001_恒昌上海','202406140001_分期乐_欺诈', '202407090001_分期乐_贷中',\n",
    "                     '20240802_度小满', '202408130001_洋钱罐', '202408300001_时光金科',\n",
    "                     '202409060001_恒昌北京_复贷', '202409060002_恒昌北京_新客', '202410090001_华晨东亚汽车金融',\n",
    "                     '202411040001_汇登数字', '202412050001_光大信用卡_分期', '202412300001_爱租机',\n",
    "                     '202412300002_爱租机', '202503120001-久恒融担', '202503120002-久恒融担',\n",
    "                     '202503120003-久恒融担', '202504010001-久恒融担', '202504090003_360_高利率',\n",
    "                     '202504090004_360_低利率', '202504210001_华通_乐信', '202504210002_华通_360',\n",
    "                     '202504210003_华通_拍拍贷', '202504240001-南银法巴'], \n",
    "           '整体':list(data.new_org.unique())}"
   ]
  },
  {
   "cell_type": "code",
   "execution_count": 8,
   "metadata": {},
   "outputs": [
    {
     "name": "stderr",
     "output_type": "stream",
     "text": [
      "100%|██████████| 3/3 [02:10<00:00, 38.11s/it]\n"
     ]
    },
    {
     "data": {
      "text/html": [
       "<div>\n",
       "<style scoped>\n",
       "    .dataframe tbody tr th:only-of-type {\n",
       "        vertical-align: middle;\n",
       "    }\n",
       "\n",
       "    .dataframe tbody tr th {\n",
       "        vertical-align: top;\n",
       "    }\n",
       "\n",
       "    .dataframe thead th {\n",
       "        text-align: right;\n",
       "    }\n",
       "</style>\n",
       "<table border=\"1\" class=\"dataframe\">\n",
       "  <thead>\n",
       "    <tr style=\"text-align: right;\">\n",
       "      <th></th>\n",
       "      <th>机构</th>\n",
       "      <th>变量</th>\n",
       "      <th>-1111缺失率</th>\n",
       "      <th>-999缺失率</th>\n",
       "      <th>-1缺失率</th>\n",
       "      <th>nan缺失率</th>\n",
       "      <th>总缺失率</th>\n",
       "    </tr>\n",
       "  </thead>\n",
       "  <tbody>\n",
       "    <tr>\n",
       "      <td>1650</td>\n",
       "      <td>202504240001-南银法巴</td>\n",
       "      <td>f49</td>\n",
       "      <td>0.0</td>\n",
       "      <td>0.0</td>\n",
       "      <td>0.043</td>\n",
       "      <td>0.0</td>\n",
       "      <td>0.043</td>\n",
       "    </tr>\n",
       "  </tbody>\n",
       "</table>\n",
       "</div>"
      ],
      "text/plain": [
       "                     机构   变量  -1111缺失率  -999缺失率  -1缺失率  nan缺失率   总缺失率\n",
       "1650  202504240001-南银法巴  f49       0.0      0.0  0.043     0.0  0.043"
      ]
     },
     "metadata": {},
     "output_type": "display_data"
    },
    {
     "data": {
      "text/html": [
       "<div>\n",
       "<style scoped>\n",
       "    .dataframe tbody tr th:only-of-type {\n",
       "        vertical-align: middle;\n",
       "    }\n",
       "\n",
       "    .dataframe tbody tr th {\n",
       "        vertical-align: top;\n",
       "    }\n",
       "\n",
       "    .dataframe thead th {\n",
       "        text-align: right;\n",
       "    }\n",
       "</style>\n",
       "<table border=\"1\" class=\"dataframe\">\n",
       "  <thead>\n",
       "    <tr style=\"text-align: right;\">\n",
       "      <th></th>\n",
       "      <th>渠道</th>\n",
       "      <th>变量</th>\n",
       "      <th>-1111缺失率</th>\n",
       "      <th>-999缺失率</th>\n",
       "      <th>-1缺失率</th>\n",
       "      <th>nan缺失率</th>\n",
       "      <th>总缺失率</th>\n",
       "    </tr>\n",
       "  </thead>\n",
       "  <tbody>\n",
       "    <tr>\n",
       "      <td>147</td>\n",
       "      <td>非银</td>\n",
       "      <td>f48</td>\n",
       "      <td>0.0</td>\n",
       "      <td>0.0</td>\n",
       "      <td>0.053</td>\n",
       "      <td>0.006</td>\n",
       "      <td>0.053</td>\n",
       "    </tr>\n",
       "  </tbody>\n",
       "</table>\n",
       "</div>"
      ],
      "text/plain": [
       "     渠道   变量  -1111缺失率  -999缺失率  -1缺失率  nan缺失率   总缺失率\n",
       "147  非银  f48       0.0      0.0  0.053   0.006  0.053"
      ]
     },
     "metadata": {},
     "output_type": "display_data"
    }
   ],
   "source": [
    "miss_org, miss_channel = missing_check(**{'data': data, 'channel': channel})\n",
    "display(miss_org.head(1), miss_channel.head(1))\n",
    "miss_org.to_csv('process results/miss_org.csv', index=False)\n",
    "miss_channel.to_csv('process results/miss_channel.csv', index=False)"
   ]
  },
  {
   "cell_type": "code",
   "execution_count": 20,
   "metadata": {},
   "outputs": [
    {
     "data": {
      "text/plain": [
       "array(['20240602', '20240603', '20240604', '20240605', '20240606',\n",
       "       '20240608', '20240609', '20240610', '20240611', '20240612',\n",
       "       '20240613', '20240614', '20240615', '20240616', '20240617',\n",
       "       '20240618', '20240619', '20240620', '20240621', '20240622',\n",
       "       '20240623', '20240624', '20240625', '20240626', '20240627',\n",
       "       '20240628', '20240630', '20240701', '20240702', '20240703',\n",
       "       '20240704', '20240705', '20240706', '20240707', '20240708',\n",
       "       '20240709', '20240710', '20240711', '20240713', '20240714',\n",
       "       '20240715', '20240717', '20240718', '20240719', '20240720',\n",
       "       '20240721', '20240722', '20240723', '20240724', '20240725',\n",
       "       '20240726', '20240728', '20240729', '20240730', '20240731'],\n",
       "      dtype=object)"
      ]
     },
     "execution_count": 20,
     "metadata": {},
     "output_type": "execute_result"
    }
   ],
   "source": [
    "np.sort(data[data.new_org=='202503110003-上海银行信贷'].new_date.unique())"
   ]
  },
  {
   "cell_type": "code",
   "execution_count": 25,
   "metadata": {},
   "outputs": [
    {
     "data": {
      "text/plain": [
       "2    3448\n",
       "1    2087\n",
       "0    1870\n",
       "3    1380\n",
       "Name: new_date, dtype: int64"
      ]
     },
     "execution_count": 25,
     "metadata": {},
     "output_type": "execute_result"
    }
   ],
   "source": [
    "bins, retbins = pd.qcut(data[data.new_org=='202503110003-上海银行信贷'].new_date.astype(int), q=5, \n",
    "                        labels=[0,1,2,3], retbins=True, duplicates='drop')\n",
    "bins.value_counts()"
   ]
  },
  {
   "cell_type": "markdown",
   "metadata": {},
   "source": [
    "### 1.4 变量分机构和渠道psi概览"
   ]
  },
  {
   "cell_type": "code",
   "execution_count": 9,
   "metadata": {},
   "outputs": [
    {
     "name": "stderr",
     "output_type": "stream",
     "text": [
      "  0%|          | 0/3 [00:00<?, ?it/s]"
     ]
    },
    {
     "name": "stdout",
     "output_type": "stream",
     "text": [
      "机构202503110003-上海银行信贷下f77计算psi失败, Bin edges must be unique: array([20240602, 20240619, 20240703, 20240703, 20240731]).\n",
      "You can drop duplicate edges by setting the 'duplicates' kwarg\n",
      "机构202503110001-上海银行信贷下f77计算psi失败, Bin edges must be unique: array([20240523., 20240523., 20240524., 20240524., 20240526.]).\n",
      "You can drop duplicate edges by setting the 'duplicates' kwarg\n"
     ]
    },
    {
     "name": "stderr",
     "output_type": "stream",
     "text": [
      " 67%|██████▋   | 2/3 [10:58<04:15, 255.55s/it]"
     ]
    },
    {
     "name": "stdout",
     "output_type": "stream",
     "text": [
      "机构202503110003-上海银行信贷下f77计算psi失败, Bin edges must be unique: array([20240602, 20240619, 20240703, 20240703, 20240731]).\n",
      "You can drop duplicate edges by setting the 'duplicates' kwarg\n",
      "机构202503110001-上海银行信贷下f77计算psi失败, Bin edges must be unique: array([20240523., 20240523., 20240524., 20240524., 20240526.]).\n",
      "You can drop duplicate edges by setting the 'duplicates' kwarg\n"
     ]
    },
    {
     "name": "stderr",
     "output_type": "stream",
     "text": [
      "100%|██████████| 3/3 [22:08<00:00, 379.88s/it]\n"
     ]
    },
    {
     "data": {
      "text/html": [
       "<div>\n",
       "<style scoped>\n",
       "    .dataframe tbody tr th:only-of-type {\n",
       "        vertical-align: middle;\n",
       "    }\n",
       "\n",
       "    .dataframe tbody tr th {\n",
       "        vertical-align: top;\n",
       "    }\n",
       "\n",
       "    .dataframe thead th {\n",
       "        text-align: right;\n",
       "    }\n",
       "</style>\n",
       "<table border=\"1\" class=\"dataframe\">\n",
       "  <thead>\n",
       "    <tr style=\"text-align: right;\">\n",
       "      <th></th>\n",
       "      <th>机构</th>\n",
       "      <th>变量</th>\n",
       "      <th>区间</th>\n",
       "      <th>样本数</th>\n",
       "      <th>区间psi</th>\n",
       "      <th>最大psi</th>\n",
       "    </tr>\n",
       "  </thead>\n",
       "  <tbody>\n",
       "    <tr>\n",
       "      <td>10055</td>\n",
       "      <td>202504240001-南银法巴</td>\n",
       "      <td>f9</td>\n",
       "      <td>Q4</td>\n",
       "      <td>13132</td>\n",
       "      <td>0.0000</td>\n",
       "      <td>0.0005</td>\n",
       "    </tr>\n",
       "    <tr>\n",
       "      <td>10054</td>\n",
       "      <td>202504240001-南银法巴</td>\n",
       "      <td>f9</td>\n",
       "      <td>Q3</td>\n",
       "      <td>13248</td>\n",
       "      <td>0.0001</td>\n",
       "      <td>0.0005</td>\n",
       "    </tr>\n",
       "    <tr>\n",
       "      <td>10053</td>\n",
       "      <td>202504240001-南银法巴</td>\n",
       "      <td>f9</td>\n",
       "      <td>Q2</td>\n",
       "      <td>13092</td>\n",
       "      <td>0.0005</td>\n",
       "      <td>0.0005</td>\n",
       "    </tr>\n",
       "    <tr>\n",
       "      <td>10052</td>\n",
       "      <td>202504240001-南银法巴</td>\n",
       "      <td>f9</td>\n",
       "      <td>Q1</td>\n",
       "      <td>13669</td>\n",
       "      <td>0.0001</td>\n",
       "      <td>0.0005</td>\n",
       "    </tr>\n",
       "  </tbody>\n",
       "</table>\n",
       "</div>"
      ],
      "text/plain": [
       "                      机构  变量  区间    样本数   区间psi   最大psi\n",
       "10055  202504240001-南银法巴  f9  Q4  13132  0.0000  0.0005\n",
       "10054  202504240001-南银法巴  f9  Q3  13248  0.0001  0.0005\n",
       "10053  202504240001-南银法巴  f9  Q2  13092  0.0005  0.0005\n",
       "10052  202504240001-南银法巴  f9  Q1  13669  0.0001  0.0005"
      ]
     },
     "metadata": {},
     "output_type": "display_data"
    },
    {
     "data": {
      "text/html": [
       "<div>\n",
       "<style scoped>\n",
       "    .dataframe tbody tr th:only-of-type {\n",
       "        vertical-align: middle;\n",
       "    }\n",
       "\n",
       "    .dataframe tbody tr th {\n",
       "        vertical-align: top;\n",
       "    }\n",
       "\n",
       "    .dataframe thead th {\n",
       "        text-align: right;\n",
       "    }\n",
       "</style>\n",
       "<table border=\"1\" class=\"dataframe\">\n",
       "  <thead>\n",
       "    <tr style=\"text-align: right;\">\n",
       "      <th></th>\n",
       "      <th>渠道</th>\n",
       "      <th>变量</th>\n",
       "      <th>区间</th>\n",
       "      <th>样本数</th>\n",
       "      <th>区间psi</th>\n",
       "      <th>最大psi</th>\n",
       "    </tr>\n",
       "  </thead>\n",
       "  <tbody>\n",
       "    <tr>\n",
       "      <td>455</td>\n",
       "      <td>非银</td>\n",
       "      <td>f9</td>\n",
       "      <td>Q4</td>\n",
       "      <td>490126</td>\n",
       "      <td>0.0000</td>\n",
       "      <td>0.0202</td>\n",
       "    </tr>\n",
       "    <tr>\n",
       "      <td>454</td>\n",
       "      <td>非银</td>\n",
       "      <td>f9</td>\n",
       "      <td>Q3</td>\n",
       "      <td>490919</td>\n",
       "      <td>0.0158</td>\n",
       "      <td>0.0202</td>\n",
       "    </tr>\n",
       "    <tr>\n",
       "      <td>453</td>\n",
       "      <td>非银</td>\n",
       "      <td>f9</td>\n",
       "      <td>Q2</td>\n",
       "      <td>502008</td>\n",
       "      <td>0.0098</td>\n",
       "      <td>0.0202</td>\n",
       "    </tr>\n",
       "    <tr>\n",
       "      <td>452</td>\n",
       "      <td>非银</td>\n",
       "      <td>f9</td>\n",
       "      <td>Q1</td>\n",
       "      <td>497090</td>\n",
       "      <td>0.0202</td>\n",
       "      <td>0.0202</td>\n",
       "    </tr>\n",
       "  </tbody>\n",
       "</table>\n",
       "</div>"
      ],
      "text/plain": [
       "     渠道  变量  区间     样本数   区间psi   最大psi\n",
       "455  非银  f9  Q4  490126  0.0000  0.0202\n",
       "454  非银  f9  Q3  490919  0.0158  0.0202\n",
       "453  非银  f9  Q2  502008  0.0098  0.0202\n",
       "452  非银  f9  Q1  497090  0.0202  0.0202"
      ]
     },
     "metadata": {},
     "output_type": "display_data"
    }
   ],
   "source": [
    "res_psi_org, res_psi_channel = detect_psi(**{'data': data, 'channel': channel})\n",
    "res_psi_org.to_csv(\"process results/psi_org.csv\", index=False)\n",
    "res_psi_channel.to_csv('process results/psi_channel.csv', index=False)\n",
    "display(res_psi_org.head(4), res_psi_channel.head(4))"
   ]
  },
  {
   "cell_type": "markdown",
   "metadata": {},
   "source": [
    "### 1.5 变量分机构和渠道和总体iv概览"
   ]
  },
  {
   "cell_type": "code",
   "execution_count": null,
   "metadata": {},
   "outputs": [],
   "source": [
    "res_iv_org, res_iv_channel = detect_iv(**{'data':data, 'method':'quantile', 'bins':5, 'channel': channel})\n",
    "res_iv_org.to_csv('process results/iv_org.csv', index=False)\n",
    "res_iv_channel.to_csv(\"process results/iv_channel.csv\", index=False)\n",
    "display(res_iv_org.head(2), res_iv_channel.head(2))"
   ]
  },
  {
   "cell_type": "markdown",
   "metadata": {},
   "source": [
    "### 1.6 变量总体相似性概览"
   ]
  },
  {
   "cell_type": "code",
   "execution_count": null,
   "metadata": {},
   "outputs": [],
   "source": [
    "indices, corr = detect_correlation(**{'data':data, 'method':'pearson', 'max_corr':0.85})\n",
    "corr.to_csv('process results/correlation.csv', index=False)"
   ]
  },
  {
   "cell_type": "markdown",
   "metadata": {},
   "source": [
    "## 2. 变量筛选 (iv psi correlation null_importance forward_selection)\n",
    "## condition计算 一起看 观测多少个机构上满足"
   ]
  },
  {
   "cell_type": "markdown",
   "metadata": {},
   "source": [
    "### 2.1 去除高缺失率变量　渠道可以加入考虑，是否现在已经写了？"
   ]
  },
  {
   "cell_type": "code",
   "execution_count": null,
   "metadata": {},
   "outputs": [],
   "source": [
    "data = drop_highmiss_features(**{'data':data, 'ratio': 0.3, 'cnt': 3, 'miss_org': miss_org, 'miss_channel': miss_channel})"
   ]
  },
  {
   "cell_type": "markdown",
   "metadata": {},
   "source": [
    "### 2.2 去除高psi变量"
   ]
  },
  {
   "cell_type": "code",
   "execution_count": null,
   "metadata": {},
   "outputs": [],
   "source": [
    "data = drop_highpsi_features(**{'data':data, 'res_psi_org':res_psi_org, 'cnt':2, 'ratio':0.1})"
   ]
  },
  {
   "cell_type": "markdown",
   "metadata": {},
   "source": [
    "### 2.3 去除低iv变量"
   ]
  },
  {
   "cell_type": "code",
   "execution_count": null,
   "metadata": {},
   "outputs": [],
   "source": [
    "data = drop_lowiv_features(**{'data':data, 'miniv':0.1, 'cnt':5, 'res_iv_org':res_iv_org, 'res_iv_channel': res_iv_channel})"
   ]
  },
  {
   "cell_type": "markdown",
   "metadata": {},
   "source": [
    "### 2.4 去除高相似性变量"
   ]
  },
  {
   "cell_type": "code",
   "execution_count": null,
   "metadata": {},
   "outputs": [],
   "source": [
    "data = drop_highcorrelation_features(**{'data':data, 'res_iv_channel':res_iv_channel,'indices':indices, 'channel':'整体'})"
   ]
  },
  {
   "cell_type": "markdown",
   "metadata": {},
   "source": [
    "### 2.5 null importance去除高噪音变量"
   ]
  },
  {
   "cell_type": "code",
   "execution_count": null,
   "metadata": {},
   "outputs": [],
   "source": [
    "data = drop_highnoise_features(**{'data': data, 'n_estimators':100, 'max_depth': 5})"
   ]
  },
  {
   "cell_type": "markdown",
   "metadata": {},
   "source": [
    "### 2.6 前向特征选择 (optional)"
   ]
  },
  {
   "cell_type": "code",
   "execution_count": null,
   "metadata": {},
   "outputs": [],
   "source": []
  },
  {
   "cell_type": "code",
   "execution_count": null,
   "metadata": {},
   "outputs": [],
   "source": []
  }
 ],
 "metadata": {
  "kernelspec": {
   "display_name": "Python 3",
   "language": "python",
   "name": "python3"
  },
  "language_info": {
   "codemirror_mode": {
    "name": "ipython",
    "version": 3
   },
   "file_extension": ".py",
   "mimetype": "text/x-python",
   "name": "python",
   "nbconvert_exporter": "python",
   "pygments_lexer": "ipython3",
   "version": "3.6.5"
  }
 },
 "nbformat": 4,
 "nbformat_minor": 4
}
