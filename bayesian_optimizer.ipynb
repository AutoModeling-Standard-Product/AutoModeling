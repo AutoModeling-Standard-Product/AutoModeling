{
 "cells": [
  {
   "cell_type": "code",
   "execution_count": null,
   "id": "07f8fdb0-0718-45eb-80eb-97a578d871db",
   "metadata": {},
   "outputs": [],
   "source": [
    "from bayesian_optimizer import *\n",
    "from func import get_dataset\n",
    "\n",
    "import time"
   ]
  },
  {
   "cell_type": "code",
   "execution_count": null,
   "id": "77a7a2e5-0980-49ca-8dfa-f8ec1279273a",
   "metadata": {},
   "outputs": [],
   "source": [
    "p = {'data_pth':'../../1/mj2非银版/data/modeling_data.csv',\n",
    "    'date_colName': 'apply_date',\n",
    "    'y_colName': 'credit_target',\n",
    "    'org_colName':'org',\n",
    "    'data_encode':'utf-8',\n",
    "    'key_colNames' : ['mobile_org', 'apply_date', 'org']}\n",
    "data = get_dataset(**p)"
   ]
  },
  {
   "cell_type": "code",
   "execution_count": null,
   "id": "dfc1ea3a-d668-4ac8-bf51-597a694e99c1",
   "metadata": {},
   "outputs": [],
   "source": [
    "pbounds = {\n",
    "    'learning_rate': (0.05, 0.1),\n",
    "    'feature_fraction': (20, 100),\n",
    "    'bagging_fraction': (0.3, 0.7),\n",
    "    'max_depth': (0.3, 0.7),\n",
    "    'lambda_l1': (3, 10),\n",
    "    'lambda_l2': (0, 10),\n",
    "    'min_split_gain': (0, 10),\n",
    "    'min_child_weight': (1, 50)\n",
    "}\n",
    "\n",
    "fixed_params = {\n",
    "    'objective': 'binary',\n",
    "    'metric': 'auc',\n",
    "    'boosting_type': 'gbdt',\n",
    "    'verbose': 2\n",
    "}"
   ]
  },
  {
   "cell_type": "code",
   "execution_count": null,
   "id": "4b2419b3-74ba-4d32-8953-6f8dbba0c2db",
   "metadata": {},
   "outputs": [],
   "source": [
    "t0, t0_ = time.time(), time.localtime()\n",
    "display(f'开始参数搜索！开始时间为{time.strftime('%Y-%m-%d %h:%M:%S', t0_)}')\n",
    "result = bayesian_search_params(\n",
    "    data=data,\n",
    "    fixed_params=fixed_params,\n",
    "    pbounds=pbounds,\n",
    "    init_points=5,\n",
    "    max_iterations=15,\n",
    "    max_gap=0.2,\n",
    "    min_ks=0.15,\n",
    "    lgb_num_threads=12\n",
    ")\n",
    "display(f'参数搜索总耗时{(time.time() - t0} seconds.')\n",
    "display(result['target'])"
   ]
  }
 ],
 "metadata": {
  "kernelspec": {
   "display_name": "Python [conda env:base] *",
   "language": "python",
   "name": "conda-base-py"
  },
  "language_info": {
   "codemirror_mode": {
    "name": "ipython",
    "version": 3
   },
   "file_extension": ".py",
   "mimetype": "text/x-python",
   "name": "python",
   "nbconvert_exporter": "python",
   "pygments_lexer": "ipython3",
   "version": "3.12.7"
  }
 },
 "nbformat": 4,
 "nbformat_minor": 5
}
